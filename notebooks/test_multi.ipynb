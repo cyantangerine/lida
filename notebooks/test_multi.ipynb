{
 "cells": [
  {
   "cell_type": "code",
   "id": "7cc87ad689b57e5c",
   "metadata": {
    "collapsed": true,
    "ExecuteTime": {
     "end_time": "2024-08-17T15:09:17.064148Z",
     "start_time": "2024-08-17T15:09:16.611239Z"
    }
   },
   "source": "from test_lib import *",
   "outputs": [],
   "execution_count": 1
  },
  {
   "metadata": {
    "ExecuteTime": {
     "end_time": "2024-08-17T15:09:18.020535Z",
     "start_time": "2024-08-17T15:09:17.997598Z"
    }
   },
   "cell_type": "code",
   "source": [
    "filename = \"times.csv\"\n",
    "f = build_test_file(filename)\n",
    "summary, goals = summary_and_goals(filename, \"\")\n",
    "parse_goal(goals)"
   ],
   "id": "initial_id",
   "outputs": [
    {
     "data": {
      "text/plain": [
       "['0. What is the overall trend of x1 over time?',\n",
       " '1. What is the correlation between x1 and x2?',\n",
       " '2. What is the distribution of x3?',\n",
       " '3. What is the average value of x4 over time?',\n",
       " '4. What is the relationship between x1 and x3?',\n",
       " '5. What is the distribution of x2?',\n",
       " '6. What is the correlation between x2 and x4?',\n",
       " '7. What is the distribution of x4?',\n",
       " '8. What is the correlation between x1 and x4?',\n",
       " '9. What is the average value of x3 over time?',\n",
       " '10. What is the correlation between x2 and x3?',\n",
       " '11. What is the distribution of id?',\n",
       " '12. What is the correlation between x3 and x4?',\n",
       " '13. What is the average value of x2 over time?',\n",
       " '14. What is the correlation between id and x1?',\n",
       " '15. What is the distribution of x1?',\n",
       " '16. What is the correlation between id and x2?',\n",
       " '17. What is the distribution of x4 over time?',\n",
       " '18. What is the correlation between id and x3?',\n",
       " '19. What is the distribution of x2 over time?']"
      ]
     },
     "execution_count": 2,
     "metadata": {},
     "output_type": "execute_result"
    }
   ],
   "execution_count": 2
  },
  {
   "metadata": {
    "ExecuteTime": {
     "end_time": "2024-08-17T15:11:38.133165Z",
     "start_time": "2024-08-17T15:09:30.095556Z"
    }
   },
   "cell_type": "code",
   "source": [
    "add_goals_to_file(f,parse_goal(goals))\n",
    "    \n",
    "for i in [1,4,6,8,10,12]:\n",
    "    goal = goals[i]\n",
    "    img, md = visu_and_conclusion(summary, goal)\n",
    "    ques = f\"{goal['index']}. \" + goal[\"question\"]\n",
    "    add_test_file(f,ques,md,img)\n",
    "close_test_file(f)"
   ],
   "id": "7ad83570dd1d7e8b",
   "outputs": [],
   "execution_count": 3
  },
  {
   "metadata": {},
   "cell_type": "code",
   "source": "",
   "id": "ae7969ff817ee3e1",
   "outputs": [],
   "execution_count": null
  }
 ],
 "metadata": {
  "kernelspec": {
   "display_name": "Python 3",
   "language": "python",
   "name": "python3"
  },
  "language_info": {
   "codemirror_mode": {
    "name": "ipython",
    "version": 2
   },
   "file_extension": ".py",
   "mimetype": "text/x-python",
   "name": "python",
   "nbconvert_exporter": "python",
   "pygments_lexer": "ipython2",
   "version": "2.7.6"
  }
 },
 "nbformat": 4,
 "nbformat_minor": 5
}
